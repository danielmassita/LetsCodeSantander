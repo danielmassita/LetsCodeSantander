{
 "cells": [
  {
   "cell_type": "code",
   "execution_count": 1,
   "id": "33954942",
   "metadata": {},
   "outputs": [],
   "source": [
    "### LIST ###"
   ]
  },
  {
   "cell_type": "code",
   "execution_count": 2,
   "id": "5068dfbd",
   "metadata": {},
   "outputs": [
    {
     "name": "stdout",
     "output_type": "stream",
     "text": [
      "['Brasil', 'Argentina', 'China', 'Canadá', 'Japão']\n"
     ]
    }
   ],
   "source": [
    "nomes_paises = ['Brasil', 'Argentina', 'China', 'Canadá', 'Japão']\n",
    "print(nomes_paises)"
   ]
  },
  {
   "cell_type": "code",
   "execution_count": 5,
   "id": "f8c5127d",
   "metadata": {},
   "outputs": [
    {
     "name": "stdout",
     "output_type": "stream",
     "text": [
      "Tamanho da lista: 5\n"
     ]
    }
   ],
   "source": [
    "###len(x) retorna o tamanho dos elementos da lista com base 0###\n",
    "print('Tamanho da lista:', len(nomes_paises)) "
   ]
  },
  {
   "cell_type": "code",
   "execution_count": 6,
   "id": "76cb1358",
   "metadata": {},
   "outputs": [
    {
     "name": "stdout",
     "output_type": "stream",
     "text": [
      "País: Japão\n",
      "País: Japão\n",
      "País: Colômbia\n",
      "['Brasil', 'Argentina', 'China', 'Canadá', 'Colômbia']\n"
     ]
    }
   ],
   "source": [
    "print('País:', nomes_paises[4]) ### Japão no último dado ###\n",
    "print('País:', nomes_paises[-1]) ### Japão também no último dado, contando regressivamente ###\n",
    "nomes_paises[4] = 'Colômbia' ### Troca de Japão por Colômbia ###\n",
    "print('País:', nomes_paises[4]) \n",
    "print(nomes_paises)"
   ]
  },
  {
   "cell_type": "code",
   "execution_count": 7,
   "id": "92ee315a",
   "metadata": {},
   "outputs": [
    {
     "ename": "IndexError",
     "evalue": "list assignment index out of range",
     "output_type": "error",
     "traceback": [
      "\u001b[1;31m---------------------------------------------------------------------------\u001b[0m",
      "\u001b[1;31mIndexError\u001b[0m                                Traceback (most recent call last)",
      "Input \u001b[1;32mIn [7]\u001b[0m, in \u001b[0;36m<cell line: 2>\u001b[1;34m()\u001b[0m\n\u001b[0;32m      1\u001b[0m \u001b[38;5;66;03m### Não permite adicionar um dado se não tiver o espaço existente na lista... ###\u001b[39;00m\n\u001b[1;32m----> 2\u001b[0m nomes_paises[\u001b[38;5;241m5\u001b[39m] \u001b[38;5;241m=\u001b[39m \u001b[38;5;124m'\u001b[39m\u001b[38;5;124mChile\u001b[39m\u001b[38;5;124m'\u001b[39m\n",
      "\u001b[1;31mIndexError\u001b[0m: list assignment index out of range"
     ]
    }
   ],
   "source": [
    "### Não permite adicionar um dado se não tiver o espaço existente na lista... ###\n",
    "nomes_paises[5] = 'Chile' "
   ]
  },
  {
   "cell_type": "code",
   "execution_count": 8,
   "id": "c4808a5b",
   "metadata": {},
   "outputs": [
    {
     "name": "stdout",
     "output_type": "stream",
     "text": [
      "['Argentina', 'China']\n",
      "['Argentina', 'China', 'Canadá']\n",
      "['China', 'Canadá', 'Colômbia']\n",
      "['Brasil', 'Argentina', 'China']\n",
      "['Brasil', 'Argentina', 'China', 'Canadá', 'Colômbia']\n",
      "['Brasil', 'China', 'Colômbia']\n",
      "['Colômbia', 'Canadá', 'China', 'Argentina', 'Brasil']\n",
      "True\n",
      "False\n"
     ]
    }
   ],
   "source": [
    "print(nomes_paises[1:3]) ### Do índice 1 ao 3 não inclusivo ###\n",
    "print(nomes_paises[1:-1]) ### Do índice 1 ao último não inclusivo ###\n",
    "print(nomes_paises[2:]) ### Da posição índice 2 até o final ###\n",
    "print(nomes_paises[:3]) ### Do inicial ao valor final 3 não inclusivo ###\n",
    "print(nomes_paises[:]) ### Do inicial ao final não especificando ###\n",
    "print(nomes_paises[::2]) ### Do inicial ao final, pulando de 2 em 2 (step) ###\n",
    "print(nomes_paises[::-1]) ### Lista com incremento negativo (inverso da ordem lista) ###\n",
    "print(\"Brasil\" in nomes_paises) ### Resultado Bool True/False ###\n",
    "print(\"Canadá\" not in nomes_paises) ### Resultado Bool sendo != ###"
   ]
  },
  {
   "cell_type": "code",
   "execution_count": 9,
   "id": "45436f47",
   "metadata": {},
   "outputs": [
    {
     "name": "stdout",
     "output_type": "stream",
     "text": [
      "['Brasilia', 'Buenos Aires', 'Pequim', 'Bogotá']\n"
     ]
    }
   ],
   "source": [
    "### MÉTODOS que podemos usar nas listas! ###\n",
    "lista_capitais =[]\n",
    "lista_capitais.append('Brasilia')\n",
    "lista_capitais.append('Buenos Aires')\n",
    "lista_capitais.append('Pequim')\n",
    "lista_capitais.append('Bogotá')\n",
    "print(lista_capitais)"
   ]
  },
  {
   "cell_type": "code",
   "execution_count": 10,
   "id": "2021ff91",
   "metadata": {},
   "outputs": [
    {
     "name": "stdout",
     "output_type": "stream",
     "text": [
      "['Brasilia', 'Buenos Aires', 'Paris', 'Pequim', 'Bogotá']\n",
      "['Brasilia', 'Paris', 'Pequim', 'Bogotá']\n"
     ]
    }
   ],
   "source": [
    "lista_capitais.insert(2, 'Paris') ### Adiciona no índice 2 o dado Paris ###\n",
    "print(lista_capitais)\n",
    "lista_capitais.remove('Buenos Aires') ### Remove o dado especificado da lista ###\n",
    "print(lista_capitais)"
   ]
  },
  {
   "cell_type": "code",
   "execution_count": 11,
   "id": "8edc3033",
   "metadata": {},
   "outputs": [
    {
     "name": "stdout",
     "output_type": "stream",
     "text": [
      "['Brasilia', 'Paris', 'Bogotá']\n",
      "Pequim\n"
     ]
    }
   ],
   "source": [
    "### A função .pop retira e retorna um dado, então podemos atribuir uma var como resultado... ###\n",
    "removido = lista_capitais.pop(2) \n",
    "print(lista_capitais)\n",
    "print(removido)"
   ]
  },
  {
   "cell_type": "code",
   "execution_count": 12,
   "id": "97d53bbb",
   "metadata": {},
   "outputs": [
    {
     "name": "stdout",
     "output_type": "stream",
     "text": [
      "('Brasil', 'Argentina', 'China', 'Canadá', 'Japão')\n"
     ]
    },
    {
     "data": {
      "text/plain": [
       "tuple"
      ]
     },
     "execution_count": 12,
     "metadata": {},
     "output_type": "execute_result"
    }
   ],
   "source": [
    "### TUPLA - Listas são flexíveis, Tuplas não são permitidas alterações, porém tem operações especiais e possui armazenamento menor... ###\n",
    "nomes_paises = ('Brasil', 'Argentina', 'China', 'Canadá', 'Japão')\n",
    "print(nomes_paises)\n",
    "type(nomes_paises)"
   ]
  },
  {
   "cell_type": "code",
   "execution_count": 13,
   "id": "58f0bc61",
   "metadata": {},
   "outputs": [
    {
     "name": "stdout",
     "output_type": "stream",
     "text": [
      "('Brasil', 'Argentina', 'China', 'Canadá', 'Japão')\n"
     ]
    },
    {
     "data": {
      "text/plain": [
       "tuple"
      ]
     },
     "execution_count": 13,
     "metadata": {},
     "output_type": "execute_result"
    }
   ],
   "source": [
    "nomes_paises = 'Brasil', 'Argentina', 'China', 'Canadá', 'Japão'\n",
    "print(nomes_paises)\n",
    "type(nomes_paises)"
   ]
  },
  {
   "cell_type": "code",
   "execution_count": 14,
   "id": "abc37f7f",
   "metadata": {},
   "outputs": [
    {
     "name": "stdout",
     "output_type": "stream",
     "text": [
      "('São Paulo',) <class 'tuple'>\n"
     ]
    }
   ],
   "source": [
    "### a vírgula entende tupla de 1 elemento ###\n",
    "nome_estado = 'São Paulo', \n",
    "print(nome_estado, type(nome_estado))"
   ]
  },
  {
   "cell_type": "code",
   "execution_count": 16,
   "id": "ee4f0fb6",
   "metadata": {},
   "outputs": [
    {
     "data": {
      "text/plain": [
       "'Brasil'"
      ]
     },
     "execution_count": 16,
     "metadata": {},
     "output_type": "execute_result"
    }
   ],
   "source": [
    "len(nomes_paises)\n",
    "nomes_paises[0]"
   ]
  },
  {
   "cell_type": "code",
   "execution_count": 17,
   "id": "a126e1a7",
   "metadata": {},
   "outputs": [
    {
     "name": "stdout",
     "output_type": "stream",
     "text": [
      "Brasil China Japão\n",
      "Brasil Argentina China Canadá Japão\n"
     ]
    }
   ],
   "source": [
    "### As tuplas possuem operação de UNPACKING! Transformando cada elemento em uma nova variável ###\n",
    "### Usando apenas as iniciais dos nomes como variáveis, podemos ter... ###\n",
    "\n",
    "b, a, c, ca, j = nomes_paises\n",
    "print(b, c, j)\n",
    "print(*nomes_paises) \n",
    "### Imprime apenas as variáveis UNPACKED e não a lsita de dados ###"
   ]
  },
  {
   "cell_type": "code",
   "execution_count": null,
   "id": "9e77a280",
   "metadata": {},
   "outputs": [],
   "source": []
  }
 ],
 "metadata": {
  "kernelspec": {
   "display_name": "Python 3 (ipykernel)",
   "language": "python",
   "name": "python3"
  },
  "language_info": {
   "codemirror_mode": {
    "name": "ipython",
    "version": 3
   },
   "file_extension": ".py",
   "mimetype": "text/x-python",
   "name": "python",
   "nbconvert_exporter": "python",
   "pygments_lexer": "ipython3",
   "version": "3.9.12"
  }
 },
 "nbformat": 4,
 "nbformat_minor": 5
}
