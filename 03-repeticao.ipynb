{
 "cells": [
  {
   "cell_type": "code",
   "execution_count": 26,
   "id": "748500c2",
   "metadata": {},
   "outputs": [
    {
     "name": "stdout",
     "output_type": "stream",
     "text": [
      "1 item limpo\n",
      "2 itens limpos\n",
      "3 itens limpos\n",
      "4 itens limpos\n",
      "5 itens limpos\n",
      "6 itens limpos\n",
      "7 itens limpos\n",
      "8 itens limpos\n",
      "9 itens limpos\n",
      "10 itens limpos\n",
      "Fim da repetição do bloco while.\n"
     ]
    }
   ],
   "source": [
    "contador = 0\n",
    "while contador < 10:\n",
    "    contador = contador + 1\n",
    "    if contador == 1:\n",
    "        print(contador, \"item limpo\")\n",
    "    else: \n",
    "        print(contador, \"itens limpos\")\n",
    "        \n",
    "print(\"Fim da repetição do bloco while.\")"
   ]
  },
  {
   "cell_type": "code",
   "execution_count": 27,
   "id": "d019ae46",
   "metadata": {},
   "outputs": [
    {
     "name": "stdout",
     "output_type": "stream",
     "text": [
      "1 item limpo\n",
      "2 itens limpos\n",
      "3 itens limpos\n",
      "4 itens limpos\n",
      "5 itens limpos\n",
      "6 itens limpos\n",
      "7 itens limpos\n",
      "8 itens limpos\n",
      "9 itens limpos\n",
      "10 itens limpos\n",
      "Fim da repetição do bloco while.\n"
     ]
    }
   ],
   "source": [
    "contador = 0\n",
    "while True:\n",
    "    if contador < 10:\n",
    "        contador = contador + 1\n",
    "        if contador == 1:\n",
    "            print(contador, \"item limpo\")\n",
    "        else: \n",
    "            print(contador, \"itens limpos\")\n",
    "    else:\n",
    "        break \n",
    "        \n",
    "print(\"Fim da repetição do bloco while.\")"
   ]
  },
  {
   "cell_type": "code",
   "execution_count": 30,
   "id": "31cc378a",
   "metadata": {},
   "outputs": [
    {
     "name": "stdout",
     "output_type": "stream",
     "text": [
      "Digita a sua senha: letscodee\n",
      "Senha inválida, tente novamente. Digite a sua senha: letscodddd\n",
      "Senha inválida, tente novamente. Digite a sua senha: letscode\n",
      "Senha inválida, tente novamente. Digite a sua senha: LetsCode\n",
      "Senha correta!\n"
     ]
    }
   ],
   "source": [
    "texto = input(\"Digita a sua senha: \")\n",
    "\n",
    "while texto != \"LetsCode\":\n",
    "    texto = input(\"Senha inválida, tente novamente. Digite a sua senha: \")\n",
    "print(\"Senha correta!\")"
   ]
  },
  {
   "cell_type": "code",
   "execution_count": null,
   "id": "b0422480",
   "metadata": {},
   "outputs": [],
   "source": [
    "contador = 0\n",
    "\n",
    "while contador < 10:\n",
    "    contador += 1\n",
    "    if contador == 1:\n",
    "        continue\n",
    "    print(contador, \"itens limpos\")\n",
    "    \n",
    "print(\"Fim da repetição do bloco while.\")"
   ]
  }
 ],
 "metadata": {
  "kernelspec": {
   "display_name": "Python 3 (ipykernel)",
   "language": "python",
   "name": "python3"
  },
  "language_info": {
   "codemirror_mode": {
    "name": "ipython",
    "version": 3
   },
   "file_extension": ".py",
   "mimetype": "text/x-python",
   "name": "python",
   "nbconvert_exporter": "python",
   "pygments_lexer": "ipython3",
   "version": "3.9.12"
  }
 },
 "nbformat": 4,
 "nbformat_minor": 5
}
