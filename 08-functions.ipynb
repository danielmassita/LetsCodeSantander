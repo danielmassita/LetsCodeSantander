{
 "cells": [
  {
   "cell_type": "code",
   "execution_count": 1,
   "id": "557306e2",
   "metadata": {},
   "outputs": [],
   "source": [
    "def hello():\n",
    "    print('Hello, world!')"
   ]
  },
  {
   "cell_type": "code",
   "execution_count": 3,
   "id": "0b94a140",
   "metadata": {},
   "outputs": [
    {
     "name": "stdout",
     "output_type": "stream",
     "text": [
      "Hello, world!\n"
     ]
    }
   ],
   "source": [
    "### A função foi DEFinida, mas não foi chamada... Agora podemos chamar! ###\n",
    "hello()"
   ]
  },
  {
   "cell_type": "code",
   "execution_count": 4,
   "id": "ba9ad56b",
   "metadata": {},
   "outputs": [],
   "source": [
    "def calcula_media(valor1, valor2, valor3):\n",
    "    soma = valor1 + valor2 + valor3\n",
    "    media = (soma / 3)\n",
    "    return media"
   ]
  },
  {
   "cell_type": "code",
   "execution_count": 5,
   "id": "1744acbc",
   "metadata": {},
   "outputs": [
    {
     "data": {
      "text/plain": [
       "10.0"
      ]
     },
     "execution_count": 5,
     "metadata": {},
     "output_type": "execute_result"
    }
   ],
   "source": [
    "calcula_media(10, 10, 10)"
   ]
  },
  {
   "cell_type": "code",
   "execution_count": 6,
   "id": "ff2425e5",
   "metadata": {},
   "outputs": [
    {
     "name": "stdout",
     "output_type": "stream",
     "text": [
      "10.0\n"
     ]
    }
   ],
   "source": [
    "### Inclusive, podemos retornar o resultado já atribuindo uma VAR ###\n",
    "resultado = calcula_media(10, 10, 10)\n",
    "print(resultado)"
   ]
  },
  {
   "cell_type": "code",
   "execution_count": 7,
   "id": "0fc828d4",
   "metadata": {},
   "outputs": [
    {
     "name": "stdout",
     "output_type": "stream",
     "text": [
      "9.333333333333334\n"
     ]
    }
   ],
   "source": [
    "resultado2 = calcula_media(valor1=9, valor2=10, valor3=9)\n",
    "print(resultado2)"
   ]
  },
  {
   "cell_type": "code",
   "execution_count": 8,
   "id": "925e040f",
   "metadata": {},
   "outputs": [
    {
     "name": "stdout",
     "output_type": "stream",
     "text": [
      "Olá\n",
      ", Pietro\n"
     ]
    }
   ],
   "source": [
    "print('Olá')\n",
    "print(', Pietro')\n",
    "### Por default a função print usa uma quebra ao final"
   ]
  },
  {
   "cell_type": "code",
   "execution_count": 11,
   "id": "e7ac43bf",
   "metadata": {},
   "outputs": [
    {
     "name": "stdout",
     "output_type": "stream",
     "text": [
      "Olá, Pietro\n"
     ]
    }
   ],
   "source": [
    "print('Olá', end=\"\")\n",
    "print(', Pietro')\n",
    "### Podemos alterar o SEParador ou o END final usados no default... ###"
   ]
  },
  {
   "cell_type": "code",
   "execution_count": 12,
   "id": "89e02bc5",
   "metadata": {},
   "outputs": [],
   "source": [
    "def calcula_media(valor1=0, valor2=0, valor3=0):\n",
    "    soma = valor1 + valor2 + valor3\n",
    "    media = (soma / 3)\n",
    "    return media\n",
    "### Assim, eu coloco os parâmetros defaults que eu queira ###"
   ]
  },
  {
   "cell_type": "code",
   "execution_count": 13,
   "id": "8a7f55d4",
   "metadata": {},
   "outputs": [
    {
     "name": "stdout",
     "output_type": "stream",
     "text": [
      "0.0\n"
     ]
    }
   ],
   "source": [
    "resultado = calcula_media()\n",
    "print(resultado)"
   ]
  },
  {
   "cell_type": "code",
   "execution_count": 14,
   "id": "91f21e8d",
   "metadata": {},
   "outputs": [],
   "source": [
    "### Vamos utilizar os *ARGS para redefinir n valores ###\n",
    "def calcula_media(*args):\n",
    "    print(args, type(args))"
   ]
  },
  {
   "cell_type": "code",
   "execution_count": 17,
   "id": "abea702e",
   "metadata": {},
   "outputs": [
    {
     "name": "stdout",
     "output_type": "stream",
     "text": [
      "() <class 'tuple'>\n"
     ]
    }
   ],
   "source": [
    "calcula_media()\n",
    "### O retorno da função será dado pelos N valores em forma de TUPLA! "
   ]
  },
  {
   "cell_type": "code",
   "execution_count": 18,
   "id": "130afb70",
   "metadata": {},
   "outputs": [
    {
     "name": "stdout",
     "output_type": "stream",
     "text": [
      "(10, 8, 9) <class 'tuple'>\n"
     ]
    }
   ],
   "source": [
    "calcula_media(10, 8, 9)"
   ]
  },
  {
   "cell_type": "code",
   "execution_count": 22,
   "id": "8b127fa9",
   "metadata": {},
   "outputs": [],
   "source": [
    "def calcula_media(*args):\n",
    "    soma = sum(args)\n",
    "    media = soma / len(args)\n",
    "    return media"
   ]
  },
  {
   "cell_type": "code",
   "execution_count": 25,
   "id": "312919ec",
   "metadata": {},
   "outputs": [
    {
     "data": {
      "text/plain": [
       "9.0"
      ]
     },
     "execution_count": 25,
     "metadata": {},
     "output_type": "execute_result"
    }
   ],
   "source": [
    "calcula_media(10, 8, 9)"
   ]
  },
  {
   "cell_type": "code",
   "execution_count": 26,
   "id": "f3202ce6",
   "metadata": {},
   "outputs": [],
   "source": [
    "def calcula_media(*args, margem):\n",
    "    soma = sum(args)\n",
    "    media = soma / len(args)\n",
    "    return media + margem"
   ]
  },
  {
   "cell_type": "code",
   "execution_count": 27,
   "id": "ea354eee",
   "metadata": {},
   "outputs": [
    {
     "data": {
      "text/plain": [
       "9.3"
      ]
     },
     "execution_count": 27,
     "metadata": {},
     "output_type": "execute_result"
    }
   ],
   "source": [
    "### Se eu não definir exatamente qual é o valor de margem, vai dar conflito nos ARGS\n",
    "calcula_media(10, 8, 9, margem=0.3) "
   ]
  },
  {
   "cell_type": "code",
   "execution_count": 28,
   "id": "35d11845",
   "metadata": {},
   "outputs": [
    {
     "ename": "TypeError",
     "evalue": "calcula_media() missing 1 required keyword-only argument: 'margem'",
     "output_type": "error",
     "traceback": [
      "\u001b[1;31m---------------------------------------------------------------------------\u001b[0m",
      "\u001b[1;31mTypeError\u001b[0m                                 Traceback (most recent call last)",
      "Input \u001b[1;32mIn [28]\u001b[0m, in \u001b[0;36m<cell line: 1>\u001b[1;34m()\u001b[0m\n\u001b[1;32m----> 1\u001b[0m \u001b[43mcalcula_media\u001b[49m\u001b[43m(\u001b[49m\u001b[38;5;241;43m10\u001b[39;49m\u001b[43m,\u001b[49m\u001b[43m \u001b[49m\u001b[38;5;241;43m8\u001b[39;49m\u001b[43m,\u001b[49m\u001b[43m \u001b[49m\u001b[38;5;241;43m9\u001b[39;49m\u001b[43m,\u001b[49m\u001b[43m \u001b[49m\u001b[38;5;241;43m0.3\u001b[39;49m\u001b[43m)\u001b[49m\n",
      "\u001b[1;31mTypeError\u001b[0m: calcula_media() missing 1 required keyword-only argument: 'margem'"
     ]
    }
   ],
   "source": [
    "calcula_media(10, 8, 9, 0.3)"
   ]
  },
  {
   "cell_type": "code",
   "execution_count": 30,
   "id": "cb62d7b9",
   "metadata": {},
   "outputs": [],
   "source": [
    "### Key Word ARGS! ###\n",
    "def print_info(**kwargs):\n",
    "    print(kwargs, type(kwargs))"
   ]
  },
  {
   "cell_type": "code",
   "execution_count": 31,
   "id": "a7134324",
   "metadata": {},
   "outputs": [
    {
     "name": "stdout",
     "output_type": "stream",
     "text": [
      "{'nome': 'Pietro', 'sobrenome': 'Ribeiro'} <class 'dict'>\n"
     ]
    }
   ],
   "source": [
    "print_info(nome='Pietro', sobrenome='Ribeiro')"
   ]
  },
  {
   "cell_type": "code",
   "execution_count": 32,
   "id": "51bb7bf2",
   "metadata": {},
   "outputs": [],
   "source": [
    "### O KWARGS é mapeado diretamente pra um DICT... \n",
    "### Cada parâmetro da função nomeado vai se tornar um par chave-valor..."
   ]
  },
  {
   "cell_type": "code",
   "execution_count": null,
   "id": "e94c92e0",
   "metadata": {},
   "outputs": [],
   "source": []
  }
 ],
 "metadata": {
  "kernelspec": {
   "display_name": "Python 3 (ipykernel)",
   "language": "python",
   "name": "python3"
  },
  "language_info": {
   "codemirror_mode": {
    "name": "ipython",
    "version": 3
   },
   "file_extension": ".py",
   "mimetype": "text/x-python",
   "name": "python",
   "nbconvert_exporter": "python",
   "pygments_lexer": "ipython3",
   "version": "3.9.12"
  }
 },
 "nbformat": 4,
 "nbformat_minor": 5
}
