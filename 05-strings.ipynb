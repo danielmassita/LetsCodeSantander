{
 "cells": [
  {
   "cell_type": "code",
   "execution_count": 3,
   "id": "6eb11e51",
   "metadata": {},
   "outputs": [
    {
     "name": "stdout",
     "output_type": "stream",
     "text": [
      "Google\n",
      "Google\n",
      "Google\n",
      "Let's Code\n"
     ]
    }
   ],
   "source": [
    "### String é o tipo de dado que representa uma seqüência de caracteres ###\n",
    "### Usamos \"aspas duplas\" ou 'aspas simples' ou `crase` ###\n",
    "\n",
    "empresa = 'Google'\n",
    "print(empresa)\n",
    "empresa = \"Google\"\n",
    "print(empresa)\n",
    "### empresa = 'Let's Code' erro por causa das aspas\n",
    "print(empresa)\n",
    "empresa = \"Let's Code\"\n",
    "print(empresa)"
   ]
  },
  {
   "cell_type": "code",
   "execution_count": 4,
   "id": "44c5fe13",
   "metadata": {},
   "outputs": [
    {
     "name": "stdout",
     "output_type": "stream",
     "text": [
      "O professor Pietro da Let's Code disse: \"Hoje a pizza é por minha conta!\"\n"
     ]
    }
   ],
   "source": [
    "### STRINGS PARTE 2 ###\n",
    "### frase = \"O professor Pietro da Let's Code disse: \"Hoje a pizza é por minha conta!\"\n",
    "### Podemos usar um caracter de escape, ou seja, contra-barra ###\n",
    "frase = \"O professor Pietro da Let's Code disse: \\\"Hoje a pizza é por minha conta!\\\"\"\n",
    "print(frase)"
   ]
  },
  {
   "cell_type": "code",
   "execution_count": 5,
   "id": "982aaf09",
   "metadata": {},
   "outputs": [
    {
     "name": "stdout",
     "output_type": "stream",
     "text": [
      "G\n",
      "Goo\n"
     ]
    }
   ],
   "source": [
    "### SLICE pode ser usado nas STRs também... ###\n",
    "empresa = 'Google'\n",
    "print(empresa[0])\n",
    "print(empresa[:3])"
   ]
  },
  {
   "cell_type": "code",
   "execution_count": 6,
   "id": "6ba2eff6",
   "metadata": {},
   "outputs": [
    {
     "data": {
      "text/plain": [
       "str"
      ]
     },
     "execution_count": 6,
     "metadata": {},
     "output_type": "execute_result"
    }
   ],
   "source": [
    "nomes_cidades = \"São Paulo, Belo Horizonte, Rio de Janeiro, Brasília\"\n",
    "type(nomes_cidades) ### STR"
   ]
  },
  {
   "cell_type": "code",
   "execution_count": 7,
   "id": "0c73f9af",
   "metadata": {},
   "outputs": [
    {
     "name": "stdout",
     "output_type": "stream",
     "text": [
      "['São Paulo', 'Belo Horizonte', 'Rio de Janeiro', 'Brasília']\n"
     ]
    },
    {
     "data": {
      "text/plain": [
       "list"
      ]
     },
     "execution_count": 7,
     "metadata": {},
     "output_type": "execute_result"
    }
   ],
   "source": [
    "### Método .split retorna a alteração feita na str, espaço é o default de separação ###\n",
    "nomes_cidades = nomes_cidades.split(', ') ### vírgula espaço separam os elementos ###\n",
    "print(nomes_cidades)\n",
    "type(nomes_cidades) ### Retorna como uma LIST ###"
   ]
  },
  {
   "cell_type": "code",
   "execution_count": 8,
   "id": "b9d9ece5",
   "metadata": {},
   "outputs": [
    {
     "name": "stdout",
     "output_type": "stream",
     "text": [
      "MENU PRINCIPAL\n"
     ]
    }
   ],
   "source": [
    "### Método .strip é bom pra separar dados sujos com espaços antes e após os caracteres ###\n",
    "cabecalho = \"            MENU PRINCIPAL         \"\n",
    "print(cabecalho.strip()) ### \"MENU PRINCIPAL\"\n"
   ]
  },
  {
   "cell_type": "code",
   "execution_count": 9,
   "id": "e52d3a0f",
   "metadata": {},
   "outputs": [
    {
     "name": "stdout",
     "output_type": "stream",
     "text": [
      "Rio De Janeiro\n",
      "Rio de janeiro\n",
      "rio de janeiro\n",
      "RIO DE JANEIRO\n"
     ]
    }
   ],
   "source": [
    "nome_cidade = \"rIo DE jaNeirO\"\n",
    "\n",
    "print(nome_cidade.title()) ### Rio De Janeiro\n",
    "print(nome_cidade.capitalize()) ### Rio de janeiro\n",
    "print(nome_cidade.lower()) ### rio de janeiro\n",
    "print(nome_cidade.upper()) ### RIO DE JANEIROmensagem = 'Você viu o que o Pietro disse na sala ontem?'\n",
    "fui_citado = 'Pietro' in mensagem ### True/False verificando se houve uma menção ao texto em questão... ### \n",
    "print(fui_citado)"
   ]
  },
  {
   "cell_type": "code",
   "execution_count": 10,
   "id": "156d2605",
   "metadata": {},
   "outputs": [
    {
     "name": "stdout",
     "output_type": "stream",
     "text": [
      "Que cidade do Brasil é conhecida como cidade maravilhosa? sao paulio\n",
      "Tenta de novo, vai...\n",
      "Que cidade do Brasil é conhecida como cidade maravilhsoa? sao Paulo\n",
      "Tenta de novo, vai...\n",
      "Que cidade do Brasil é conhecida como cidade maravilhsoa?    rio de janeiro\n",
      "Tenta de novo, vai...\n",
      "Que cidade do Brasil é conhecida como cidade maravilhsoa?    Rio de Janeiro\n",
      "Tenta de novo, vai...\n",
      "Que cidade do Brasil é conhecida como cidade maravilhsoa? Rio de Janeiro\n",
      "Booa, campeão!\n"
     ]
    }
   ],
   "source": [
    "nome_cidade = input(('Que cidade do Brasil é conhecida como cidade maravilhosa? '))\n",
    "nome_cidade = nome_cidade.strip()\n",
    "while nome_cidade.lower() != 'rio de janeiro': ### Vai continuar no loop até acertarem a resposta! ###\n",
    "    print('Tenta de novo, vai...')\n",
    "    nome_cidade = input('Que cidade do Brasil é conhecida como cidade maravilhsoa? ')\n",
    "print('Booa, campeão!')"
   ]
  },
  {
   "cell_type": "code",
   "execution_count": 11,
   "id": "a6878443",
   "metadata": {},
   "outputs": [
    {
     "name": "stdout",
     "output_type": "stream",
     "text": [
      "True\n"
     ]
    }
   ],
   "source": [
    "mensagem = 'Você viu o que o Pietro disse na sala ontem?'\n",
    "### True/False verificando se houve uma menção ao texto em questão... ### \n",
    "fui_citado = 'Pietro' in mensagem \n",
    "print(fui_citado)"
   ]
  },
  {
   "cell_type": "code",
   "execution_count": 12,
   "id": "37d0d039",
   "metadata": {},
   "outputs": [
    {
     "name": "stdout",
     "output_type": "stream",
     "text": [
      "Olá, Felipe\n"
     ]
    }
   ],
   "source": [
    "### Operadores aritméticos podem funcionar com STRs também! ###\n",
    "cumprimento = 'Olá, '\n",
    "nome = 'Felipe'\n",
    "print(cumprimento + nome)"
   ]
  },
  {
   "cell_type": "code",
   "execution_count": 13,
   "id": "af619855",
   "metadata": {},
   "outputs": [
    {
     "name": "stdout",
     "output_type": "stream",
     "text": [
      "FelipeFelipeFelipeFelipeFelipe\n",
      "Felipe352\n"
     ]
    }
   ],
   "source": [
    "print(nome*5)\n",
    "nome = 'Felipe'\n",
    "idade = 35 ### Teremos de transformar INT para STR ###\n",
    "n_filhos = 2 ### Teremos de transformar INT para STR ###\n",
    "print(nome + str(idade) + str(n_filhos))"
   ]
  },
  {
   "cell_type": "code",
   "execution_count": 14,
   "id": "c5166825",
   "metadata": {},
   "outputs": [
    {
     "name": "stdout",
     "output_type": "stream",
     "text": [
      "Felipe tem 35 anos de idade e 2 filhos.\n",
      "Felipe tem 35 anos e 2 filhos.\n",
      "O preço da gasolina hoje subiu e está em R$ 3.48\n"
     ]
    }
   ],
   "source": [
    "print(nome + ' tem ' + str(idade) + ' anos de idade e ' + str(n_filhos) + ' filhos.')\n",
    "print('{} tem {} anos e {} filhos.'.format(nome, idade, n_filhos))\n",
    "preco_gasolina = 3.476\n",
    "print('O preço da gasolina hoje subiu e está em R$ {:.2f}'.format(preco_gasolina)) \n",
    "### o índice .2f mostrando uma FLAG e usando 2 casas de FLOAT (casas decimais arredondando) ###"
   ]
  },
  {
   "cell_type": "code",
   "execution_count": null,
   "id": "270482e3",
   "metadata": {},
   "outputs": [],
   "source": []
  }
 ],
 "metadata": {
  "kernelspec": {
   "display_name": "Python 3 (ipykernel)",
   "language": "python",
   "name": "python3"
  },
  "language_info": {
   "codemirror_mode": {
    "name": "ipython",
    "version": 3
   },
   "file_extension": ".py",
   "mimetype": "text/x-python",
   "name": "python",
   "nbconvert_exporter": "python",
   "pygments_lexer": "ipython3",
   "version": "3.9.12"
  }
 },
 "nbformat": 4,
 "nbformat_minor": 5
}
