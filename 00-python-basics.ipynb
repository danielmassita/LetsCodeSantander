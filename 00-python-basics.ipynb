{
 "cells": [
  {
   "cell_type": "code",
   "execution_count": 1,
   "id": "e4e5ca4f",
   "metadata": {},
   "outputs": [
    {
     "name": "stdout",
     "output_type": "stream",
     "text": [
      "Hello, World!\n"
     ]
    }
   ],
   "source": [
    "print(\"Hello, World!\");"
   ]
  },
  {
   "cell_type": "code",
   "execution_count": 2,
   "id": "7e4370ef",
   "metadata": {},
   "outputs": [
    {
     "name": "stdout",
     "output_type": "stream",
     "text": [
      "5\n",
      "<class 'int'>\n"
     ]
    }
   ],
   "source": [
    "\"\"\"Variável é um NOME e um VALOR que pode armazenar diversos tipos de dados...\"\"\"\n",
    "x = 5\n",
    "print(x)\n",
    "print(type(x))"
   ]
  },
  {
   "cell_type": "code",
   "execution_count": 3,
   "id": "aa8617fd",
   "metadata": {},
   "outputs": [
    {
     "name": "stdout",
     "output_type": "stream",
     "text": [
      "19.99 <class 'float'>\n",
      "São Paulo <class 'str'>\n",
      "True\n",
      "False <class 'bool'>\n"
     ]
    }
   ],
   "source": [
    "\"\"\"Os tipos de variáveis podem ser: INT (valores inteiros), FLOAT (valores decimais), STR (string) entre \"aspas\" e será uma cadeia de caracteres, BOOL (boolean \"\"\"\n",
    "preco = 19.99\n",
    "print(preco, type(preco))\n",
    "cidade = \"São Paulo\"\n",
    "print(cidade, type(cidade))\n",
    "disponivel = True \n",
    "print(disponivel)\n",
    "disponivel = False\n",
    "print(disponivel, type(disponivel))"
   ]
  },
  {
   "cell_type": "code",
   "execution_count": 4,
   "id": "d113c64e",
   "metadata": {},
   "outputs": [
    {
     "name": "stdout",
     "output_type": "stream",
     "text": [
      "52\n",
      "48\n",
      "100\n",
      "25.0\n",
      "2500\n",
      "25\n",
      "0\n",
      "0.75\n",
      "0\n"
     ]
    }
   ],
   "source": [
    "\"\"\"Os tipos de operadores serão Aritméticos e Lógicos. Os aritméticos são + - * /, resto da divisão %, divisão inteira // e potência **. \n",
    "Os lógicos são not, and e or, para compor o booleano True/False.\"\"\"\n",
    "x = 50\n",
    "y = 2\n",
    "print(x + y)\n",
    "print(x - y)\n",
    "print(x * y)\n",
    "print(x / y)\n",
    "print(x ** y)\n",
    "print(x // y)\n",
    "print(x % y)\n",
    "print(3/4)\n",
    "print(3//4)"
   ]
  },
  {
   "cell_type": "code",
   "execution_count": 5,
   "id": "d0b7c5a4",
   "metadata": {},
   "outputs": [
    {
     "name": "stdout",
     "output_type": "stream",
     "text": [
      "False\n",
      "True\n",
      "False\n"
     ]
    }
   ],
   "source": [
    "tem_cafe = True\n",
    "tem_pao = False\n",
    "print(not tem_cafe)\n",
    "print(tem_cafe or tem_pao)\n",
    "print(tem_cafe and tem_pao)"
   ]
  },
  {
   "cell_type": "code",
   "execution_count": 6,
   "id": "54a021f8",
   "metadata": {},
   "outputs": [
    {
     "name": "stdout",
     "output_type": "stream",
     "text": [
      "True\n",
      "False\n",
      "False\n",
      "True\n",
      "False\n",
      "True\n"
     ]
    }
   ],
   "source": [
    "\"\"\"Operadores Relacionais: maior que >, menor que <, igual a ==, maior ou igual >=, menor ou igual <=, diferente != serão usados pra retornar um True/False\"\"\"\n",
    "dolar = 5.3\n",
    "real = 1\n",
    "print(dolar > real)\n",
    "print(dolar < real)\n",
    "print(dolar == real)\n",
    "print(dolar >= real)\n",
    "print(dolar <= real)\n",
    "print(dolar != real)"
   ]
  },
  {
   "cell_type": "code",
   "execution_count": null,
   "id": "e44a07d2",
   "metadata": {},
   "outputs": [],
   "source": []
  }
 ],
 "metadata": {
  "kernelspec": {
   "display_name": "Python 3 (ipykernel)",
   "language": "python",
   "name": "python3"
  },
  "language_info": {
   "codemirror_mode": {
    "name": "ipython",
    "version": 3
   },
   "file_extension": ".py",
   "mimetype": "text/x-python",
   "name": "python",
   "nbconvert_exporter": "python",
   "pygments_lexer": "ipython3",
   "version": "3.9.12"
  }
 },
 "nbformat": 4,
 "nbformat_minor": 5
}
